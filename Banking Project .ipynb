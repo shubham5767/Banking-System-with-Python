{
 "cells": [
  {
   "cell_type": "code",
   "execution_count": 7,
   "id": "9439dfff",
   "metadata": {},
   "outputs": [
    {
     "name": "stdout",
     "output_type": "stream",
     "text": [
      "Enter your name: Shubham bhavsar\n",
      "Enter inpute Balance:5000\n",
      "Congrats!! and Welcome\n",
      "Your Name is : Shubham bhavsar\n",
      "Your starting Amount is: 5000\n"
     ]
    }
   ],
   "source": [
    "# print(\"Hellow Wel come to state Bank\")\n",
    "\n",
    "Name = input(\"Enter your name: \") \n",
    "Balance = int(input(\"Enter inpute Balance:\" )) \n",
    "print(\"Congrats!! and Welcome\")\n",
    "print(f\"Your Name is : {Name}\")\n",
    "print(f\"Your starting Amount is: {Balance}\")"
   ]
  },
  {
   "cell_type": "code",
   "execution_count": 21,
   "id": "97f98d7d",
   "metadata": {},
   "outputs": [
    {
     "name": "stdout",
     "output_type": "stream",
     "text": [
      "Mr. shubham Account is Created!\n"
     ]
    }
   ],
   "source": [
    "class Bank():\n",
    "    def __init__(self,name,balance):\n",
    "        self.name = name \n",
    "        self.balance = balance \n",
    "        print(f\"Mr. {name} Account is Created!\")\n",
    "    \n",
    "    def deposite(self, amount):\n",
    "        if amount > 0:\n",
    "            self.balance += amount \n",
    "            \n",
    "    def withdraw(self,amount):\n",
    "        if amount > 0:\n",
    "            self.balance -= amount\n",
    "            \n",
    "    def show(self):\n",
    "        print(f\"{self.name} account balance is {self.balance}\")\n",
    "        \n",
    "shubham = Bank('shubham',5000)  \n",
    "# shubham.show()\n",
    "# shubham.deposite(5000)\n",
    "# shubham.show()\n",
    "# shubham.deposite(2000)\n",
    "# shubham.show()\n",
    "# shubham.withdraw(5000)\n",
    "# shubham.show()\n",
    "# shubham.deposite(3000)\n",
    "# shubham.show()\n",
    "# shubham.withdraw(400)\n",
    "# shubham.show()"
   ]
  },
  {
   "cell_type": "markdown",
   "id": "38899024",
   "metadata": {},
   "source": [
    "# same operation using Nested If Function:"
   ]
  },
  {
   "cell_type": "code",
   "execution_count": 24,
   "id": "4d845fbb",
   "metadata": {},
   "outputs": [
    {
     "name": "stdout",
     "output_type": "stream",
     "text": [
      "Mr. shubham Account is Created!\n",
      "shubham account balance is 11000\n",
      "shubham account balance is 9500\n"
     ]
    }
   ],
   "source": [
    "class Bank():\n",
    "    def __init__(self,name,balance):\n",
    "        self.name = name \n",
    "        self.balance = balance \n",
    "        print(f\"Mr. {name} Account is Created!\")\n",
    "    \n",
    "    def deposite(self, amount):\n",
    "        if amount > 0:\n",
    "            self.balance += amount \n",
    "            self.show()\n",
    "            \n",
    "    def withdraw(self,amount):\n",
    "        if amount > 0:\n",
    "            self.balance -= amount\n",
    "            self.show()\n",
    "            \n",
    "    def show(self):\n",
    "        print(f\"{self.name} account balance is {self.balance}\")\n",
    "        \n",
    "shubham = Bank('shubham',5000)  \n",
    "shubham.deposite(6000)\n",
    "shubham.withdraw(1500)"
   ]
  },
  {
   "cell_type": "markdown",
   "id": "c77da875",
   "metadata": {},
   "source": [
    "# Using Logical Operator"
   ]
  },
  {
   "cell_type": "code",
   "execution_count": 33,
   "id": "e1ce0b1b",
   "metadata": {},
   "outputs": [
    {
     "name": "stdout",
     "output_type": "stream",
     "text": [
      "Mr. shubham Account is Created!\n",
      "shubham account balance is 11000\n",
      "shubham account balance is 7000\n"
     ]
    }
   ],
   "source": [
    "class Bank():\n",
    "    def __init__(self,name,balance):\n",
    "        self.name = name \n",
    "        self.balance = balance \n",
    "        print(f\"Mr. {name} Account is Created!\")\n",
    "    \n",
    "    def deposite(self, amount):\n",
    "        if amount > 0:\n",
    "            self.balance += amount \n",
    "            self.show()\n",
    "            \n",
    "    def withdraw(self,amount):\n",
    "        if amount > 0 and self.balance >= amount:\n",
    "            self.balance -= amount\n",
    "            self.show()\n",
    "        else:\n",
    "            print(f\"Hey {self.name} your bankarpt\")\n",
    "            \n",
    "    def show(self):\n",
    "        print(f\"{self.name} account balance is {self.balance}\")\n",
    "        \n",
    "shubham = Bank('shubham',5000)\n",
    "shubham.deposite(6000)\n",
    "shubham.withdraw(4000)"
   ]
  },
  {
   "cell_type": "markdown",
   "id": "d5e3df15",
   "metadata": {},
   "source": [
    "# Using DateTime Module"
   ]
  },
  {
   "cell_type": "code",
   "execution_count": 2,
   "id": "303e0b09",
   "metadata": {},
   "outputs": [
    {
     "name": "stdout",
     "output_type": "stream",
     "text": [
      "hii your acoont is openshubham\n"
     ]
    }
   ],
   "source": [
    "import datetime \n",
    "class Bank():\n",
    "    def __init__(self,name, amount):\n",
    "        self.name = name \n",
    "        self.amount = amount \n",
    "        print(f\"hii your acoont is open{self.name}\")\n",
    "              \n",
    "shubham = Bank('shubham',5000)\n",
    "              "
   ]
  },
  {
   "cell_type": "code",
   "execution_count": 4,
   "id": "7ab700ad",
   "metadata": {},
   "outputs": [
    {
     "data": {
      "text/plain": [
       "datetime.datetime(2021, 9, 20, 19, 25, 31, 373413)"
      ]
     },
     "execution_count": 4,
     "metadata": {},
     "output_type": "execute_result"
    }
   ],
   "source": [
    "dt = datetime.datetime.now()\n",
    "dt"
   ]
  },
  {
   "cell_type": "code",
   "execution_count": 23,
   "id": "5e1d017c",
   "metadata": {},
   "outputs": [],
   "source": [
    "class bank():\n",
    "    def __init__(self, name,balance):\n",
    "        self.name = name\n",
    "        self.balance = balance \n",
    "        print(f\"congrats!! {self.name} your Account is Created\")\n",
    "        \n",
    "    def deposite(self, amount):\n",
    "        if amount > 0:\n",
    "            self.balance += amount\n",
    "            self.show()\n",
    "        \n",
    "    \n",
    "    def withdraw(self, amount):\n",
    "        if amount > 0 and self.balance >= amount:\n",
    "            self.balance -= amount \n",
    "            self.show()\n",
    "        else:\n",
    "            print(\"Sorry! you have insufficiant balance!\")\n",
    "        \n",
    "    \n",
    "    def show(self):\n",
    "        print(f\"{self.name} your account balance is {self.balance}.\")\n",
    "            "
   ]
  },
  {
   "cell_type": "code",
   "execution_count": 19,
   "id": "c2ab5897",
   "metadata": {},
   "outputs": [
    {
     "name": "stdout",
     "output_type": "stream",
     "text": [
      "congrats!! Shubham your Account is Created\n"
     ]
    }
   ],
   "source": [
    "Cust = bank('Shubham', 4000)"
   ]
  },
  {
   "cell_type": "code",
   "execution_count": 28,
   "id": "b76b3d4e",
   "metadata": {},
   "outputs": [],
   "source": [
    "# Cust.show()\n",
    "Cust.withdraw(12000)"
   ]
  },
  {
   "cell_type": "code",
   "execution_count": 32,
   "id": "d13afd2a",
   "metadata": {},
   "outputs": [],
   "source": [
    "# import datetime \n",
    "\n",
    "# dt = datetime.datetime.now()\n",
    "# dt"
   ]
  },
  {
   "cell_type": "code",
   "execution_count": 57,
   "id": "e29ae6e8",
   "metadata": {},
   "outputs": [
    {
     "name": "stdout",
     "output_type": "stream",
     "text": [
      "shubham congrats your account opened!\n",
      "Hi shubham your account balance is 6000\n",
      "Amount 1000 doller, Deposite on 2021-09-21 13:44:05.754611\n",
      "Hi shubham your account balance is 11000\n",
      "Amount 1000 doller, Deposite on 2021-09-21 13:44:05.754611\n",
      "Amount 5000 doller, Deposite on 2021-09-21 13:44:05.755612\n"
     ]
    }
   ],
   "source": [
    "import datetime \n",
    "\n",
    "class bank():\n",
    "    def __init__(self, name, balance):\n",
    "        self.name = name \n",
    "        self.balance = balance\n",
    "        print(f\"{self.name} congrats your account opened!\")\n",
    "        self.trans_list = []\n",
    "        \n",
    "    def deposite(self, amount):\n",
    "        if amount > 0:\n",
    "            self.balance += amount\n",
    "            self.show()\n",
    "            self.trans_list.append((datetime.datetime.now(),amount))\n",
    "            \n",
    "    def withdraw(self,amount):\n",
    "        if amount > 0:\n",
    "            self.balance -= amount\n",
    "            self.show()\n",
    "    \n",
    "    def show(self):\n",
    "        print(f\"Hi {self.name} your account balance is {self.balance}\")\n",
    "        \n",
    "    def show_trans(self):\n",
    "        for date, amount in self.trans_list:\n",
    "            if amount > 0:\n",
    "                trans_type = 'Deposite'\n",
    "            else:\n",
    "                trans_type = 'Withdraw'\n",
    "                amount *= -1\n",
    "            print(f\"Amount {amount} doller, {trans_type} on {date}\")\n",
    "               \n",
    "cust = bank('shubham', 5000)\n",
    "cust.deposite(1000) \n",
    "cust.show_trans()\n",
    "cust.deposite(5000)\n",
    "cust.show_trans()\n",
    "# cust.deposite(4000)\n",
    "# cust.withdraw(3000)"
   ]
  }
 ],
 "metadata": {
  "kernelspec": {
   "display_name": "Python 3 (ipykernel)",
   "language": "python",
   "name": "python3"
  },
  "language_info": {
   "codemirror_mode": {
    "name": "ipython",
    "version": 3
   },
   "file_extension": ".py",
   "mimetype": "text/x-python",
   "name": "python",
   "nbconvert_exporter": "python",
   "pygments_lexer": "ipython3",
   "version": "3.9.6"
  }
 },
 "nbformat": 4,
 "nbformat_minor": 5
}
